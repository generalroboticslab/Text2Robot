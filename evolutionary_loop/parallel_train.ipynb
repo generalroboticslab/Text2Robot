{
 "cells": [
  {
   "cell_type": "code",
   "execution_count": null,
   "metadata": {},
   "outputs": [],
   "source": [
    "# example for reading urdf and yaml to convert into a command-line override"
   ]
  },
  {
   "cell_type": "code",
   "execution_count": 4,
   "metadata": {},
   "outputs": [],
   "source": [
    "\n",
    "import os\n",
    "import pathlib\n",
    "\n",
    "from train_util import get_subdirectory_configs\n",
    "from experiments.robotdog import *\n",
    "\n",
    "# base_directory = \"../../RobotsMakingRobots/assets/URDFsForBoxi\"\n",
    "\n",
    "base_directory = \"./RobotDog/Offspring\"\n",
    "\n",
    "run_directory=\"../legged_env/envs\"\n",
    "\n",
    "# for p in pathlib.Path(base_directory).rglob(\"*.urdf\"):\n",
    "#     print(p)\n",
    "\n",
    "\n",
    "base_dir_path = pathlib.Path(base_directory)\n",
    "configs = [get_subdirectory_configs(x,extra_configs) for x in base_dir_path.iterdir() if x.is_dir()]\n",
    "\n",
    "# for x in base_dir_path.iterdir():\n",
    "#     if x.is_dir():\n",
    "#         print(get_subdirectory_configs(x))"
   ]
  },
  {
   "cell_type": "code",
   "execution_count": 7,
   "metadata": {},
   "outputs": [
    {
     "name": "stdout",
     "output_type": "stream",
     "text": [
      "\"python train.py task=RobotDog test=True num_envs=2  task.env.urdfAsset.file='RobotDog_top-y-7_bottom-y-2.urdf' ++task.env.urdfAsset.root='/home/grl/repo/RobotsMakingRobots/evolutionary_loop/RobotDog/Offspring/RobotDog_top-y-7_bottom-y-2' task.env.baseHeightTarget=0.2794540557861328 task.env.baseInitState.pos=[0,0,0.2794540557861328] task.env.baseInitState.rot=[0,0,0,1] task.env.defaultJointAngles.joint_1_0=0 task.env.defaultJointAngles.joint_1_1=0 task.env.defaultJointAngles.joint_1_2=0 task.env.defaultJointAngles.joint_1_3=0 task.env.defaultJointAngles.joint_2_0=0 task.env.defaultJointAngles.joint_2_1=0 task.env.defaultJointAngles.joint_2_2=0 task.env.defaultJointAngles.joint_2_3=0 task.env.desiredJointAngles.joint_1_0=0 task.env.desiredJointAngles.joint_1_1=0 task.env.desiredJointAngles.joint_1_2=0 task.env.desiredJointAngles.joint_1_3=0 task.env.desiredJointAngles.joint_2_0=0 task.env.desiredJointAngles.joint_2_1=0 task.env.desiredJointAngles.joint_2_2=0 task.env.desiredJointAngles.joint_2_3=0 task.env.terrain.terrainType=plane\",\n",
      "\"python train.py task=RobotDog test=True num_envs=2  task.env.urdfAsset.file='RobotDog_top-y-7_bottom-y-2.urdf' ++task.env.urdfAsset.root='/home/grl/repo/RobotsMakingRobots/evolutionary_loop/RobotDog/Offspring/RobotDog_top-y-7_bottom-y-2' task.env.baseHeightTarget=0.2794540557861328 task.env.baseInitState.pos=[0,0,0.2794540557861328] task.env.baseInitState.rot=[0,0,0,1] task.env.defaultJointAngles.joint_1_0=0 task.env.defaultJointAngles.joint_1_1=0 task.env.defaultJointAngles.joint_1_2=0 task.env.defaultJointAngles.joint_1_3=0 task.env.defaultJointAngles.joint_2_0=0 task.env.defaultJointAngles.joint_2_1=0 task.env.defaultJointAngles.joint_2_2=0 task.env.defaultJointAngles.joint_2_3=0 task.env.desiredJointAngles.joint_1_0=0 task.env.desiredJointAngles.joint_1_1=0 task.env.desiredJointAngles.joint_1_2=0 task.env.desiredJointAngles.joint_1_3=0 task.env.desiredJointAngles.joint_2_0=0 task.env.desiredJointAngles.joint_2_1=0 task.env.desiredJointAngles.joint_2_2=0 task.env.desiredJointAngles.joint_2_3=0 task.env.terrain.terrainType=plane\",\n",
      "\"python train.py task=RobotDog test=True num_envs=2  task.env.urdfAsset.file='RobotDog_top-y-7_bottom-y-2.urdf' ++task.env.urdfAsset.root='/home/grl/repo/RobotsMakingRobots/evolutionary_loop/RobotDog/Offspring/RobotDog_top-y-7_bottom-y-2' task.env.baseHeightTarget=0.2794540557861328 task.env.baseInitState.pos=[0,0,0.2794540557861328] task.env.baseInitState.rot=[0,0,0,1] task.env.defaultJointAngles.joint_1_0=0 task.env.defaultJointAngles.joint_1_1=0 task.env.defaultJointAngles.joint_1_2=0 task.env.defaultJointAngles.joint_1_3=0 task.env.defaultJointAngles.joint_2_0=0 task.env.defaultJointAngles.joint_2_1=0 task.env.defaultJointAngles.joint_2_2=0 task.env.defaultJointAngles.joint_2_3=0 task.env.desiredJointAngles.joint_1_0=0 task.env.desiredJointAngles.joint_1_1=0 task.env.desiredJointAngles.joint_1_2=0 task.env.desiredJointAngles.joint_1_3=0 task.env.desiredJointAngles.joint_2_0=0 task.env.desiredJointAngles.joint_2_1=0 task.env.desiredJointAngles.joint_2_2=0 task.env.desiredJointAngles.joint_2_3=0 task.env.terrain.terrainType=plane\",\n"
     ]
    }
   ],
   "source": [
    "# for k in range(len(configs)):\n",
    "#     print(\"python train.py task=RobotDog test=True num_envs=2 \"+\" \".join([f\"\\\"{key}={value}\\\"\".replace(' ','') for key, value in configs[1].items()]).replace('\\t', ''))\n",
    "#     break\n",
    "\n",
    "\n",
    "head= HEAD_PLAY\n",
    "\n",
    "str_configs = [\n",
    "    \" \".join([f\"{key}={value}\".replace(' ','') for key, value in configs[1].items()]).replace('\\t', '') for k in range(len(configs))\n",
    "]\n",
    "\n",
    "for i,c in enumerate(str_configs):\n",
    "    print(f\"\\\"{head} {c}\\\",\")\n",
    "    # if i==5:\n",
    "    #     break\n",
    "# print(str_configs[0])"
   ]
  },
  {
   "cell_type": "code",
   "execution_count": 1,
   "metadata": {},
   "outputs": [],
   "source": []
  },
  {
   "cell_type": "code",
   "execution_count": 3,
   "metadata": {},
   "outputs": [
    {
     "data": {
      "text/plain": [
       "'/home/grl/repo/micromamba/envs/py38/lib'"
      ]
     },
     "execution_count": 3,
     "metadata": {},
     "output_type": "execute_result"
    }
   ],
   "source": [
    "f\"{envvars['CONDA_PREFIX']}/lib\""
   ]
  },
  {
   "cell_type": "code",
   "execution_count": 3,
   "metadata": {},
   "outputs": [
    {
     "ename": "ImportError",
     "evalue": "attempted relative import with no known parent package",
     "output_type": "error",
     "traceback": [
      "\u001b[0;31m---------------------------------------------------------------------------\u001b[0m",
      "\u001b[0;31mImportError\u001b[0m                               Traceback (most recent call last)",
      "Cell \u001b[0;32mIn[3], line 1\u001b[0m\n\u001b[0;32m----> 1\u001b[0m \u001b[38;5;28;01mfrom\u001b[39;00m \u001b[38;5;21;01m.\u001b[39;00m\u001b[38;5;21;01m.\u001b[39;00m\u001b[38;5;21;01mlegged_env\u001b[39;00m\u001b[38;5;21;01m.\u001b[39;00m\u001b[38;5;21;01menvs\u001b[39;00m\u001b[38;5;21;01m.\u001b[39;00m\u001b[38;5;21;01mparallel_train\u001b[39;00m \u001b[38;5;28;01mimport\u001b[39;00m Launcher\n",
      "\u001b[0;31mImportError\u001b[0m: attempted relative import with no known parent package"
     ]
    }
   ],
   "source": [
    "from ..legged_env.envs.parallel_train import Launcher"
   ]
  },
  {
   "cell_type": "code",
   "execution_count": 1,
   "metadata": {},
   "outputs": [
    {
     "ename": "ModuleNotFoundError",
     "evalue": "No module named 'legged_env'",
     "output_type": "error",
     "traceback": [
      "\u001b[0;31m---------------------------------------------------------------------------\u001b[0m",
      "\u001b[0;31mModuleNotFoundError\u001b[0m                       Traceback (most recent call last)",
      "Cell \u001b[0;32mIn[1], line 5\u001b[0m\n\u001b[1;32m      3\u001b[0m \u001b[38;5;18m__file__\u001b[39m\u001b[38;5;241m=\u001b[39m \u001b[38;5;124m\"\u001b[39m\u001b[38;5;124mevolutionary_loop/parallel_train.ipynb\u001b[39m\u001b[38;5;124m\"\u001b[39m\n\u001b[1;32m      4\u001b[0m sys\u001b[38;5;241m.\u001b[39mpath\u001b[38;5;241m.\u001b[39mappend(os\u001b[38;5;241m.\u001b[39mpath\u001b[38;5;241m.\u001b[39mabspath(os\u001b[38;5;241m.\u001b[39mpath\u001b[38;5;241m.\u001b[39mjoin(os\u001b[38;5;241m.\u001b[39mpath\u001b[38;5;241m.\u001b[39mdirname(\u001b[38;5;18m__file__\u001b[39m), \u001b[38;5;124m'\u001b[39m\u001b[38;5;124m..\u001b[39m\u001b[38;5;124m'\u001b[39m,\u001b[38;5;124m'\u001b[39m\u001b[38;5;124mlegged_env\u001b[39m\u001b[38;5;124m'\u001b[39m)))\n\u001b[0;32m----> 5\u001b[0m \u001b[38;5;28;01mfrom\u001b[39;00m \u001b[38;5;21;01mlegged_env\u001b[39;00m\u001b[38;5;21;01m.\u001b[39;00m\u001b[38;5;21;01menvs\u001b[39;00m\u001b[38;5;21;01m.\u001b[39;00m\u001b[38;5;21;01mparallel_train\u001b[39;00m \u001b[38;5;28;01mimport\u001b[39;00m Launcher\n",
      "\u001b[0;31mModuleNotFoundError\u001b[0m: No module named 'legged_env'"
     ]
    }
   ],
   "source": [
    "import sys\n",
    "import os\n",
    "__file__= \"evolutionary_loop/parallel_train.ipynb\"\n",
    "sys.path.append(os.path.abspath(os.path.join(os.path.dirname(__file__), '..','legged_env')))\n",
    "from legged_env.envs.parallel_train import Launcher"
   ]
  },
  {
   "cell_type": "code",
   "execution_count": 2,
   "metadata": {},
   "outputs": [
    {
     "data": {
      "text/plain": [
       "'/home/grl/repo/RobotsMakingRobots/evolutionary_loop/legged_env'"
      ]
     },
     "execution_count": 2,
     "metadata": {},
     "output_type": "execute_result"
    }
   ],
   "source": [
    "os.path.abspath(os.path.join(os.path.dirname(__file__), '..','legged_env'))"
   ]
  },
  {
   "cell_type": "code",
   "execution_count": 3,
   "metadata": {},
   "outputs": [
    {
     "data": {
      "text/plain": [
       "'evolutionary_loop'"
      ]
     },
     "execution_count": 3,
     "metadata": {},
     "output_type": "execute_result"
    }
   ],
   "source": [
    "os.path.dirname(__file__)"
   ]
  },
  {
   "cell_type": "code",
   "execution_count": null,
   "metadata": {},
   "outputs": [],
   "source": []
  }
 ],
 "metadata": {
  "kernelspec": {
   "display_name": "Python 3",
   "language": "python",
   "name": "python3"
  },
  "language_info": {
   "codemirror_mode": {
    "name": "ipython",
    "version": 3
   },
   "file_extension": ".py",
   "mimetype": "text/x-python",
   "name": "python",
   "nbconvert_exporter": "python",
   "pygments_lexer": "ipython3",
   "version": "3.8.18"
  }
 },
 "nbformat": 4,
 "nbformat_minor": 2
}
