{
 "cells": [
  {
   "cell_type": "code",
   "execution_count": 1,
   "metadata": {},
   "outputs": [],
   "source": [
    "import torch"
   ]
  },
  {
   "cell_type": "code",
   "execution_count": 14,
   "metadata": {},
   "outputs": [
    {
     "name": "stdout",
     "output_type": "stream",
     "text": [
      "28.1 µs ± 52.4 ns per loop (mean ± std. dev. of 7 runs, 10,000 loops each)\n",
      "20.4 µs ± 131 ns per loop (mean ± std. dev. of 7 runs, 10,000 loops each)\n"
     ]
    }
   ],
   "source": [
    "# @torch.jit.script # jit not faster than normal function\n",
    "def out_of_float_bound_squared_sum(input: torch.Tensor, lower: float, upper: float) -> torch.Tensor:\n",
    "    return torch.square(input - torch.clamp(input, lower, upper)).sum(dim=-1)\n",
    "\n",
    "jit_out_of_float_bound_squared_sum=torch.compile(out_of_float_bound_squared_sum)\n",
    "\n",
    "input = torch.rand(2048,12)\n",
    "lower = torch.randn(12)\n",
    "upper = lower+torch.rand(12)\n",
    "_=jit_out_of_float_bound_squared_sum(input,lower,upper)\n",
    "\n",
    "%timeit _=out_of_float_bound_squared_sum(input,lower,upper)\n",
    "%timeit _=jit_out_of_float_bound_squared_sum(input,lower,upper)\n"
   ]
  },
  {
   "cell_type": "code",
   "execution_count": 17,
   "metadata": {},
   "outputs": [
    {
     "name": "stdout",
     "output_type": "stream",
     "text": [
      "9.49 µs ± 30.6 ns per loop (mean ± std. dev. of 7 runs, 100,000 loops each)\n",
      "14.1 µs ± 15 ns per loop (mean ± std. dev. of 7 runs, 100,000 loops each)\n"
     ]
    }
   ],
   "source": [
    "\n",
    "def abs_sum(input: torch.Tensor) -> torch.Tensor:\n",
    "    return input.abs().sum(dim=-1)\n",
    "\n",
    "jit_abs_sum=torch.compile(abs_sum)\n",
    "\n",
    "input = torch.rand(2048,12)\n",
    "_=jit_abs_sum(input)\n",
    "\n",
    "%timeit _=abs_sum(input)\n",
    "%timeit _=jit_abs_sum(input)\n"
   ]
  },
  {
   "cell_type": "code",
   "execution_count": null,
   "metadata": {},
   "outputs": [],
   "source": []
  }
 ],
 "metadata": {
  "kernelspec": {
   "display_name": "Python 3",
   "language": "python",
   "name": "python3"
  },
  "language_info": {
   "codemirror_mode": {
    "name": "ipython",
    "version": 3
   },
   "file_extension": ".py",
   "mimetype": "text/x-python",
   "name": "python",
   "nbconvert_exporter": "python",
   "pygments_lexer": "ipython3",
   "version": "3.8.18"
  }
 },
 "nbformat": 4,
 "nbformat_minor": 2
}
